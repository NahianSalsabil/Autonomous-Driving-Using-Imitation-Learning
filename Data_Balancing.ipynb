{
  "cells": [
    {
      "cell_type": "code",
      "execution_count": 1,
      "metadata": {
        "id": "DG6_ym-C_LkK"
      },
      "outputs": [],
      "source": [
        "import os\n",
        "from time import time\n",
        "import numpy\n",
        "\n",
        "from glob import glob\n",
        "import random\n",
        "import shutil\n"
      ]
    },
    {
      "cell_type": "code",
      "execution_count": 2,
      "metadata": {
        "colab": {
          "base_uri": "https://localhost:8080/"
        },
        "id": "IP8KchC__vpe",
        "outputId": "57b75db6-ca2b-4087-b918-5a8290fd76fe"
      },
      "outputs": [
        {
          "name": "stdout",
          "output_type": "stream",
          "text": [
            "1094 1150 6245\n"
          ]
        }
      ],
      "source": [
        "a_path = 'Data train2/a/'\n",
        "d_path = 'Data train2/d/'\n",
        "w_path = 'Data train2/w/'\n",
        "\n",
        "a_images = sorted(glob(a_path + '*'))\n",
        "d_images = sorted(glob(d_path + '*'))\n",
        "w_images = sorted(glob(w_path + '*'))\n",
        "\n",
        "\n",
        "print(len(a_images), len(d_images), len(w_images))"
      ]
    },
    {
      "cell_type": "code",
      "execution_count": 3,
      "metadata": {
        "id": "fs-1aWkJH2Rr"
      },
      "outputs": [
        {
          "name": "stdout",
          "output_type": "stream",
          "text": [
            "Data train2/w\\00002205.png\n",
            "1150\n"
          ]
        }
      ],
      "source": [
        "w_under_sampled = random.sample(w_images, len(d_images))\n",
        "print(w_under_sampled[0])\n",
        "print(len(w_under_sampled))\n"
      ]
    },
    {
      "cell_type": "code",
      "execution_count": 4,
      "metadata": {},
      "outputs": [],
      "source": [
        "origin = 'Data train2/w/'\n",
        "target = 'Data train2/w_under/'\n",
        "\n",
        "for file_name in w_under_sampled:\n",
        "   # image_name = file_name.split('\\\\')\n",
        "   shutil.copy(file_name, target+file_name.split('\\\\')[1])"
      ]
    }
  ],
  "metadata": {
    "colab": {
      "provenance": []
    },
    "kernelspec": {
      "display_name": "Python 3",
      "language": "python",
      "name": "python3"
    },
    "language_info": {
      "codemirror_mode": {
        "name": "ipython",
        "version": 3
      },
      "file_extension": ".py",
      "mimetype": "text/x-python",
      "name": "python",
      "nbconvert_exporter": "python",
      "pygments_lexer": "ipython3",
      "version": "3.11.2"
    },
    "vscode": {
      "interpreter": {
        "hash": "7e5c0badbb2d24bbc3f94f0128230c51073dab69f6205fe8338cbe6039d785c3"
      }
    }
  },
  "nbformat": 4,
  "nbformat_minor": 0
}
